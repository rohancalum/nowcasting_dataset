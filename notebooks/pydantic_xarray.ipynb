{
 "cells": [
  {
   "cell_type": "code",
   "execution_count": 1,
   "id": "1fee68fb-c655-4268-8afd-f3079c8040ee",
   "metadata": {},
   "outputs": [],
   "source": [
    "import xarray as xr\n",
    "import pydantic\n",
    "from typing import Any, Optional\n",
    "import numpy as np\n",
    "import pandas as pd"
   ]
  },
  {
   "cell_type": "markdown",
   "id": "9cdb6f2b-6403-4b67-9308-08fd0bdeb37f",
   "metadata": {},
   "source": [
    "OK, I think pandera _isn't_ the way forwards because it appears very tighly coupled to Pandas (so, for example, I don't think it's possible to use pandera with n-dimensional arrays).\n",
    "\n",
    "And it's not possible to do `class MyDataset(xr.Dataset, pydantic.BaseModel)`.\n",
    "\n",
    "But Pydantic looks promising. Below is a (very rough) attempt at combining xarray with pydantic. Comments more than welcome! \n",
    "\n",
    "The notebook below automatically validates a few things; but it's not super-useful as a human-readable specification for what's going on inside a DataArray or Dataset.\n",
    "\n",
    "The code below is adapted from [Pydantic's documentation on custom data types](https://pydantic-docs.helpmanual.io/usage/types/#classes-with-__get_validators__).\n",
    "\n",
    "\n",
    "## Define subclasses of `xr.DataArray` which enable Pydantic validation."
   ]
  },
  {
   "cell_type": "code",
   "execution_count": 2,
   "id": "e83b14c8-0501-4b76-b23f-750aa0380547",
   "metadata": {},
   "outputs": [
    {
     "name": "stderr",
     "output_type": "stream",
     "text": [
      "/tmp/ipykernel_1655558/2147218609.py:1: FutureWarning: xarray subclass PydanticXArrayDataArray should explicitly define __slots__\n",
      "  class PydanticXArrayDataArray(xr.DataArray):\n",
      "/tmp/ipykernel_1655558/2147218609.py:29: FutureWarning: xarray subclass ImageDataArray should explicitly define __slots__\n",
      "  class ImageDataArray(PydanticXArrayDataArray):\n",
      "/tmp/ipykernel_1655558/2147218609.py:34: FutureWarning: xarray subclass CoordsDataArray should explicitly define __slots__\n",
      "  class CoordsDataArray(PydanticXArrayDataArray):\n"
     ]
    }
   ],
   "source": [
    "class PydanticXArrayDataArray(xr.DataArray):\n",
    "    # Adapted from https://pydantic-docs.helpmanual.io/usage/types/#classes-with-__get_validators__\n",
    "    \n",
    "    _expected_dimensions = ()  # Subclasses should set this.\n",
    "    \n",
    "    @classmethod\n",
    "    def __get_validators__(cls):\n",
    "        yield cls.validate_dims\n",
    "    \n",
    "    @classmethod\n",
    "    def validate(cls, v: Any) -> Any:\n",
    "        v = cls.validate_dims(v)\n",
    "        v = cls.validate_coords(v)\n",
    "        return v\n",
    "        # TODO: How to call multiple validation functions?\n",
    "        \n",
    "    @classmethod\n",
    "    def validate_dims(cls, v: Any) -> Any:\n",
    "        assert v.dims == cls._expected_dimensions, f\"{cls.__name__}.dims is wrong! {cls.__name__}.dims is {v.dims}. But we expected {cls._expected_dimensions}\"\n",
    "        return v\n",
    "        \n",
    "    @classmethod\n",
    "    def validate_coords(cls, v: Any) -> Any:\n",
    "        for dim in cls._expected_dimensions:\n",
    "            coord = v.coords[dim]\n",
    "            assert len(coord) > 0, f\"{dim} is empty in {cls.__name__}!\"\n",
    "        return v\n",
    "\n",
    "        \n",
    "class ImageDataArray(PydanticXArrayDataArray):\n",
    "    \"\"\"Superclass for image data (satellite imagery, NWPs, etc.)\"\"\"\n",
    "    _expected_dimensions = ('time', 'x', 'y')\n",
    "    \n",
    "\n",
    "class CoordsDataArray(PydanticXArrayDataArray):\n",
    "    _expected_dimensions = ('index')"
   ]
  },
  {
   "cell_type": "markdown",
   "id": "705d43ae-e831-46cc-87c0-a2273867310d",
   "metadata": {},
   "source": [
    "## Define subclass of `xr.Dataset` to hold the `DataArray`s together"
   ]
  },
  {
   "cell_type": "code",
   "execution_count": 3,
   "id": "5a8e42c2-dc73-45cf-b52e-51c3de6c7872",
   "metadata": {},
   "outputs": [
    {
     "name": "stderr",
     "output_type": "stream",
     "text": [
      "/home/jack/miniconda3/envs/nowcasting_dataset/lib/python3.9/abc.py:106: FutureWarning: xarray subclass ImageDataset should explicitly define __slots__\n",
      "  cls = super().__new__(mcls, name, bases, namespace, **kwargs)\n"
     ]
    }
   ],
   "source": [
    "class ImageDataset(xr.Dataset):\n",
    "    \n",
    "    data: ImageDataArray\n",
    "    x_coords: Optional[CoordsDataArray] = None\n",
    "    y_coords: Optional[CoordsDataArray] = None\n",
    "\n",
    "    @classmethod\n",
    "    def __get_validators__(cls):\n",
    "        yield cls.validate_data\n",
    "        yield cls.validate_attrs\n",
    "        yield cls.validate_coords\n",
    "    \n",
    "    @classmethod\n",
    "    def validate_data(cls, v: Any) -> Any:\n",
    "        v.data = ImageDataArray.validate(v.data)\n",
    "        return v\n",
    "        \n",
    "    @classmethod\n",
    "    def validate_attrs(cls, v: Any) -> Any:\n",
    "        expected_attrs = ['data', 'x', 'y']\n",
    "        for attr in expected_attrs:\n",
    "            assert attr in v, f\"{attr} is missing from {cls.__name__}!\"\n",
    "        return v\n",
    "        \n",
    "    @classmethod\n",
    "    def validate_coords(cls, v: Any) -> Any:\n",
    "        for dim in ['x_coords', 'y_coords']:\n",
    "            coords = getattr(v, dim)\n",
    "            if coords is not None:\n",
    "                CoordsDataArray.validate(coords)\n",
    "        return v"
   ]
  },
  {
   "cell_type": "markdown",
   "id": "b0742a9d-7c65-43f3-acca-a92b24ee57c2",
   "metadata": {},
   "source": [
    "## Define a `pydantic.BaseModel`"
   ]
  },
  {
   "cell_type": "code",
   "execution_count": 4,
   "id": "c7db3d39-5a77-458e-a84b-900386ba3f6b",
   "metadata": {},
   "outputs": [],
   "source": [
    "class Example(pydantic.BaseModel):\n",
    "    \"\"\"A single machine learning training example.\"\"\"\n",
    "    satellite: Optional[ImageDataset]\n",
    "    nwp: Optional[ImageDataset]"
   ]
  },
  {
   "cell_type": "markdown",
   "id": "ec6e2061-abff-4374-a9e4-c5650f918c1b",
   "metadata": {},
   "source": [
    "## Test with some dummy data"
   ]
  },
  {
   "cell_type": "code",
   "execution_count": 5,
   "id": "1f1f482c-885c-43a3-952c-8e617606148a",
   "metadata": {},
   "outputs": [],
   "source": [
    "def create_image_dataset(dims=('time', 'x', 'y')):\n",
    "    ALL_COORDS = {\n",
    "        \"time\": pd.date_range(\"2021-01-01\", freq=\"5T\", periods=4),\n",
    "        \"x\": np.arange(10, 18),\n",
    "        \"y\": np.arange(20, 28)\n",
    "    }\n",
    "    coords = [(dim, ALL_COORDS[dim]) for dim in dims]\n",
    "    image_data_array = ImageDataArray(\n",
    "        0,  # Fake data for testing!\n",
    "        coords=coords)\n",
    "    return ImageDataset({'data': image_data_array})"
   ]
  },
  {
   "cell_type": "code",
   "execution_count": 6,
   "id": "967a01b1-33ba-46f8-95dd-b03993d5d252",
   "metadata": {},
   "outputs": [
    {
     "name": "stderr",
     "output_type": "stream",
     "text": [
      "/tmp/ipykernel_1655558/55061520.py:15: FutureWarning: Setting attribute 'data' on a 'ImageDataset' object. Explicitly define __slots__ to suppress this warning for legitimate custom attributes and raise an error when attempting variables assignments.\n",
      "  v.data = ImageDataArray.validate(v.data)\n"
     ]
    }
   ],
   "source": [
    "example = Example(\n",
    "    satellite=create_image_dataset(), \n",
    "    nwp=create_image_dataset()\n",
    ")"
   ]
  },
  {
   "cell_type": "code",
   "execution_count": 7,
   "id": "4368511a-b43b-4522-9735-078d429ade91",
   "metadata": {},
   "outputs": [
    {
     "data": {
      "text/plain": [
       "Example(satellite=<xarray.ImageDataset>\n",
       "Dimensions:  (time: 4, x: 8, y: 8)\n",
       "Coordinates:\n",
       "  * time     (time) datetime64[ns] 2021-01-01 ... 2021-01-01T00:15:00\n",
       "  * x        (x) int64 10 11 12 13 14 15 16 17\n",
       "  * y        (y) int64 20 21 22 23 24 25 26 27\n",
       "Data variables:\n",
       "    data     (time, x, y) int64 0 0 0 0 0 0 0 0 0 0 0 ... 0 0 0 0 0 0 0 0 0 0 0, nwp=<xarray.ImageDataset>\n",
       "Dimensions:  (time: 4, x: 8, y: 8)\n",
       "Coordinates:\n",
       "  * time     (time) datetime64[ns] 2021-01-01 ... 2021-01-01T00:15:00\n",
       "  * x        (x) int64 10 11 12 13 14 15 16 17\n",
       "  * y        (y) int64 20 21 22 23 24 25 26 27\n",
       "Data variables:\n",
       "    data     (time, x, y) int64 0 0 0 0 0 0 0 0 0 0 0 ... 0 0 0 0 0 0 0 0 0 0 0)"
      ]
     },
     "execution_count": 7,
     "metadata": {},
     "output_type": "execute_result"
    }
   ],
   "source": [
    "example"
   ]
  },
  {
   "cell_type": "markdown",
   "id": "e3ff7d85-91b7-4d16-b945-97b096696aa1",
   "metadata": {},
   "source": [
    "### Test with bad data"
   ]
  },
  {
   "cell_type": "code",
   "execution_count": 8,
   "id": "51c1da46-2d12-4310-900e-cc4ca665d7d5",
   "metadata": {},
   "outputs": [
    {
     "name": "stderr",
     "output_type": "stream",
     "text": [
      "/tmp/ipykernel_1655558/55061520.py:15: FutureWarning: Setting attribute 'data' on a 'ImageDataset' object. Explicitly define __slots__ to suppress this warning for legitimate custom attributes and raise an error when attempting variables assignments.\n",
      "  v.data = ImageDataArray.validate(v.data)\n"
     ]
    },
    {
     "ename": "ValidationError",
     "evalue": "1 validation error for Example\nsatellite\n  ImageDataArray.dims is wrong! ImageDataArray.dims is ('time', 'x'). But we expected ('time', 'x', 'y') (type=assertion_error)",
     "output_type": "error",
     "traceback": [
      "\u001b[0;31m---------------------------------------------------------------------------\u001b[0m",
      "\u001b[0;31mValidationError\u001b[0m                           Traceback (most recent call last)",
      "\u001b[0;32m/tmp/ipykernel_1655558/690488944.py\u001b[0m in \u001b[0;36m<module>\u001b[0;34m\u001b[0m\n\u001b[0;32m----> 1\u001b[0;31m example = Example(\n\u001b[0m\u001b[1;32m      2\u001b[0m     \u001b[0msatellite\u001b[0m\u001b[0;34m=\u001b[0m\u001b[0mcreate_image_dataset\u001b[0m\u001b[0;34m(\u001b[0m\u001b[0mdims\u001b[0m\u001b[0;34m=\u001b[0m\u001b[0;34m(\u001b[0m\u001b[0;34m'time'\u001b[0m\u001b[0;34m,\u001b[0m \u001b[0;34m'x'\u001b[0m\u001b[0;34m)\u001b[0m\u001b[0;34m)\u001b[0m\u001b[0;34m,\u001b[0m\u001b[0;34m\u001b[0m\u001b[0;34m\u001b[0m\u001b[0m\n\u001b[1;32m      3\u001b[0m     \u001b[0mnwp\u001b[0m\u001b[0;34m=\u001b[0m\u001b[0mcreate_image_dataset\u001b[0m\u001b[0;34m(\u001b[0m\u001b[0;34m)\u001b[0m\u001b[0;34m\u001b[0m\u001b[0;34m\u001b[0m\u001b[0m\n\u001b[1;32m      4\u001b[0m )\n",
      "\u001b[0;32m~/miniconda3/envs/nowcasting_dataset/lib/python3.9/site-packages/pydantic/main.cpython-39-x86_64-linux-gnu.so\u001b[0m in \u001b[0;36mpydantic.main.BaseModel.__init__\u001b[0;34m()\u001b[0m\n",
      "\u001b[0;31mValidationError\u001b[0m: 1 validation error for Example\nsatellite\n  ImageDataArray.dims is wrong! ImageDataArray.dims is ('time', 'x'). But we expected ('time', 'x', 'y') (type=assertion_error)"
     ]
    }
   ],
   "source": [
    "example = Example(\n",
    "    satellite=create_image_dataset(dims=('time', 'x')), \n",
    "    nwp=create_image_dataset()\n",
    ")"
   ]
  },
  {
   "cell_type": "code",
   "execution_count": null,
   "id": "8916c227-1a5d-4246-a7e3-39c079d43038",
   "metadata": {},
   "outputs": [],
   "source": []
  }
 ],
 "metadata": {
  "kernelspec": {
   "display_name": "nowcasting_dataset",
   "language": "python",
   "name": "nowcasting_dataset"
  },
  "language_info": {
   "codemirror_mode": {
    "name": "ipython",
    "version": 3
   },
   "file_extension": ".py",
   "mimetype": "text/x-python",
   "name": "python",
   "nbconvert_exporter": "python",
   "pygments_lexer": "ipython3",
   "version": "3.9.7"
  }
 },
 "nbformat": 4,
 "nbformat_minor": 5
}
